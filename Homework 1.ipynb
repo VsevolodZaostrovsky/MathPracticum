{
 "cells": [
  {
   "cell_type": "code",
   "execution_count": 12,
   "id": "393d1262",
   "metadata": {},
   "outputs": [],
   "source": [
    "#Task 1 (3 points, \"сложно\")\n",
    "# https://edabit.com/challenge/zkKNmC66ASvSm5wJA\n",
    "def perimeter(fig, num):\n",
    "\treturn ((fig == \"s\") * 4 * num + (fig == \"c\") * 6.28 * num)"
   ]
  },
  {
   "cell_type": "code",
   "execution_count": 4,
   "id": "a3668c9f",
   "metadata": {},
   "outputs": [],
   "source": [
    "class Test:\n",
    "    @staticmethod\n",
    "    def assert_equals(a, b, *args, **kwargs):\n",
    "        assert a == b\n",
    "        print('Passed')\n",
    "    def assert_equals_mat(a, b, n, *args, **kwargs):\n",
    "        for k in range(n):\n",
    "            for l in range(n):\n",
    "                if(a[k][l] != b[k][l]): \n",
    "                    print('Bed try')\n",
    "                    return 0\n",
    "        print('Passed')\n",
    "        return 0"
   ]
  },
  {
   "cell_type": "code",
   "execution_count": 15,
   "id": "a1a4461d",
   "metadata": {},
   "outputs": [
    {
     "name": "stdout",
     "output_type": "stream",
     "text": [
      "Passed\n",
      "Passed\n",
      "Passed\n",
      "Passed\n",
      "Passed\n",
      "Passed\n",
      "Passed\n",
      "Passed\n",
      "Passed\n",
      "Passed\n"
     ]
    }
   ],
   "source": [
    "Test.assert_equals(perimeter(\"s\", 1), 4)\n",
    "Test.assert_equals(perimeter(\"s\", 4), 16)\n",
    "Test.assert_equals(perimeter(\"s\", 9), 36)\n",
    "Test.assert_equals(perimeter(\"s\", 13), 52)\n",
    "Test.assert_equals(perimeter(\"s\", 30), 120)\n",
    "Test.assert_equals(perimeter(\"c\", 1), 6.28)\n",
    "Test.assert_equals(perimeter(\"c\", 4), 25.12)\n",
    "Test.assert_equals(perimeter(\"c\", 9), 56.52)\n",
    "Test.assert_equals(perimeter(\"c\", 13), 81.64)\n",
    "Test.assert_equals(perimeter(\"c\", 30), 188.4)"
   ]
  },
  {
   "cell_type": "code",
   "execution_count": 5,
   "id": "4ed9ba90",
   "metadata": {},
   "outputs": [],
   "source": [
    "#Task 2 (3 points, \"сложно\")\n",
    "# https://edabit.com/challenge/Y5Ji2HDnQTX7MxeHt\n",
    "import math\n",
    "def snakefill(n):\n",
    "\treturn math.floor(math.log(n * n, 2))"
   ]
  },
  {
   "cell_type": "code",
   "execution_count": 6,
   "id": "0987359f",
   "metadata": {},
   "outputs": [
    {
     "name": "stdout",
     "output_type": "stream",
     "text": [
      "Passed\n",
      "Passed\n",
      "Passed\n",
      "Passed\n",
      "Passed\n",
      "Passed\n"
     ]
    }
   ],
   "source": [
    "Test.assert_equals(snakefill(8), 6)\n",
    "Test.assert_equals(snakefill(18), 8)\n",
    "Test.assert_equals(snakefill(555), 18)\n",
    "Test.assert_equals(snakefill(2), 2)\n",
    "Test.assert_equals(snakefill(1), 0)\n",
    "Test.assert_equals(snakefill(900), 19)"
   ]
  },
  {
   "cell_type": "code",
   "execution_count": 28,
   "id": "f9b6f25a",
   "metadata": {},
   "outputs": [],
   "source": [
    "#Task 3 (3 points, \"сложно\")\n",
    "# https://edabit.com/challenge/6R6gReGTGwzpwuffD\n",
    "def seven_boom(arr):\n",
    "\tfor k in range(len(str(arr))): \n",
    "\t\tif(str(arr)[k] == '7'): \n",
    "\t\t\treturn \"Boom!\"\n",
    "\treturn \"there is no 7 in the list\""
   ]
  },
  {
   "cell_type": "code",
   "execution_count": 29,
   "id": "8a8bcb8a",
   "metadata": {},
   "outputs": [
    {
     "name": "stdout",
     "output_type": "stream",
     "text": [
      "Passed\n",
      "Passed\n",
      "Passed\n",
      "Passed\n",
      "Passed\n"
     ]
    }
   ],
   "source": [
    "Test.assert_equals(seven_boom([2, 6, 7, 9, 3]), \"Boom!\")\n",
    "Test.assert_equals(seven_boom([33, 68, 400, 5]), \"there is no 7 in the list\")\n",
    "Test.assert_equals(seven_boom([86, 48, 100, 66]), \"there is no 7 in the list\")\n",
    "Test.assert_equals(seven_boom([76, 55, 44, 32]), \"Boom!\")\n",
    "Test.assert_equals(seven_boom([35, 4, 9, 37]), \"Boom!\")"
   ]
  },
  {
   "cell_type": "code",
   "execution_count": 37,
   "id": "04be571b",
   "metadata": {},
   "outputs": [
    {
     "ename": "SyntaxError",
     "evalue": "invalid syntax (1372973795.py, line 2)",
     "output_type": "error",
     "traceback": [
      "\u001b[1;36m  Input \u001b[1;32mIn [37]\u001b[1;36m\u001b[0m\n\u001b[1;33m    https://edabit.com/challenge/yvJbdkmKHvCNtcZy9\u001b[0m\n\u001b[1;37m          ^\u001b[0m\n\u001b[1;31mSyntaxError\u001b[0m\u001b[1;31m:\u001b[0m invalid syntax\n"
     ]
    }
   ],
   "source": [
    "#Task 4 (3 points, \"сложно\")\n",
    "# https://edabit.com/challenge/yvJbdkmKHvCNtcZy9\n",
    "def is_disarium(n):\n",
    "\tb = 0\n",
    "\tfor k in range(len(str(n))):\n",
    "\t\tb += int(str(n)[k])**(k+1)\n",
    "\treturn (n==b)"
   ]
  },
  {
   "cell_type": "code",
   "execution_count": 36,
   "id": "af224639",
   "metadata": {},
   "outputs": [
    {
     "name": "stdout",
     "output_type": "stream",
     "text": [
      "Passed\n",
      "Passed\n",
      "Passed\n",
      "Passed\n",
      "Passed\n",
      "Passed\n",
      "Passed\n",
      "Passed\n",
      "Passed\n",
      "Passed\n",
      "Passed\n",
      "Passed\n"
     ]
    }
   ],
   "source": [
    "num_vector, res_vector = [\n",
    "  [6, 75, 135, 466, 372, 175, 1, 696, 876, 89, 518, 598],\n",
    "  [True, False, True, False, False, True, True, False, False, True, True, True]\n",
    "]\n",
    "for i, n in enumerate(num_vector): Test.assert_equals(is_disarium(n), res_vector[i])"
   ]
  },
  {
   "cell_type": "code",
   "execution_count": 57,
   "id": "d06dce46",
   "metadata": {},
   "outputs": [],
   "source": [
    "#Task 5 (3 points, \"сложно\")\n",
    "# https://edabit.com/challenge/3A3mHS5B3NNZddQL2\n",
    "def interview(lst, tot):\n",
    "\tif(tot > 120):\n",
    "\t\treturn \"disqualified\"\n",
    "\tif(len(lst) < 8):\n",
    "\t\treturn \"disqualified\"\n",
    "\td = [5,5,10,10,15,15,20,20]\n",
    "\tfor i in range(len(lst)):\n",
    "\t\tif(d[i] - lst[i] < 0):\n",
    "\t\t\treturn \"disqualified\"\n",
    "\treturn \"qualified\""
   ]
  },
  {
   "cell_type": "code",
   "execution_count": 58,
   "id": "0f52fa15",
   "metadata": {},
   "outputs": [
    {
     "name": "stdout",
     "output_type": "stream",
     "text": [
      "Passed\n",
      "Passed\n",
      "Passed\n",
      "Passed\n",
      "Passed\n",
      "Passed\n",
      "Passed\n",
      "Passed\n",
      "Passed\n",
      "Passed\n"
     ]
    }
   ],
   "source": [
    "Test.assert_equals(interview([5, 5, 10, 10, 15, 15, 20, 20], 120), 'qualified')\n",
    "Test.assert_equals(interview([2, 3, 8, 6, 5, 12, 10, 18], 120), 'qualified')\n",
    "Test.assert_equals(interview([2, 3, 8, 6, 5, 12, 10, 18], 64), 'qualified')\n",
    "Test.assert_equals(interview([5, 5, 10, 10, 25, 15, 20, 20], 120), 'disqualified')\n",
    "Test.assert_equals(interview([5, 5, 10, 10, 15, 15, 20], 120), 'disqualified')\n",
    "Test.assert_equals(interview([5, 5, 10, 10, 15, 15, 20, 20], 130), 'disqualified')\n",
    "Test.assert_equals(interview([5, 5, 10, 10, 15, 20, 50], 160), 'disqualified')\n",
    "Test.assert_equals(interview([5, 5, 10, 10, 15, 15, 40], 120), 'disqualified')\n",
    "Test.assert_equals(interview([10, 10, 15, 15, 20, 20], 150), 'disqualified')\n",
    "Test.assert_equals(interview([5, 5, 10, 20, 15, 15, 20, 20], 140), 'disqualified')"
   ]
  },
  {
   "cell_type": "code",
   "execution_count": null,
   "id": "b24a5f15",
   "metadata": {},
   "outputs": [],
   "source": []
  }
 ],
 "metadata": {
  "kernelspec": {
   "display_name": "Python 3 (ipykernel)",
   "language": "python",
   "name": "python3"
  },
  "language_info": {
   "codemirror_mode": {
    "name": "ipython",
    "version": 3
   },
   "file_extension": ".py",
   "mimetype": "text/x-python",
   "name": "python",
   "nbconvert_exporter": "python",
   "pygments_lexer": "ipython3",
   "version": "3.9.12"
  }
 },
 "nbformat": 4,
 "nbformat_minor": 5
}
